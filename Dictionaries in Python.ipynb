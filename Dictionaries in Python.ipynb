{
 "cells": [
  {
   "cell_type": "markdown",
   "id": "8f0261b3",
   "metadata": {},
   "source": [
    "# Dictionaries"
   ]
  },
  {
   "cell_type": "markdown",
   "id": "a16cd5be",
   "metadata": {},
   "source": [
    " ####  Dictionary is a collection of key-value pairs where each key is unique, and is used to store and manage data."
   ]
  },
  {
   "cell_type": "markdown",
   "id": "a34cf1ef",
   "metadata": {},
   "source": [
    "*  Can be of any data type and can be duplicated across different keys."
   ]
  },
  {
   "cell_type": "markdown",
   "id": "2cfc1167",
   "metadata": {},
   "source": [
    "*  Each key must be unique within a dictionary. hence, no duplicate keys"
   ]
  },
  {
   "cell_type": "markdown",
   "id": "8bc1177e",
   "metadata": {},
   "source": [
    "*  Use curly braces {} or the dict() function."
   ]
  },
  {
   "cell_type": "code",
   "execution_count": 5,
   "id": "c12c610b",
   "metadata": {},
   "outputs": [
    {
     "name": "stdout",
     "output_type": "stream",
     "text": [
      "{'Sweta': 'Kathmandu', 'Bishnu ': 'Banepa', 'suraj': 'Dulikhel'}\n"
     ]
    }
   ],
   "source": [
    "dicts= {\n",
    "\n",
    "    \"Sweta\" : \"Kathmandu\",\n",
    "    \"Bishnu \": \"Banepa\",\n",
    "    \"suraj\": \"Dulikhel\"\n",
    "}\n",
    "\n",
    "print(dicts)"
   ]
  },
  {
   "cell_type": "code",
   "execution_count": 6,
   "id": "354e67ed",
   "metadata": {},
   "outputs": [
    {
     "name": "stdout",
     "output_type": "stream",
     "text": [
      "Kathmandu\n"
     ]
    }
   ],
   "source": [
    "dicts= {\n",
    "\n",
    "    \"Sweta\" : \"Kathmandu\",\n",
    "    \"Bishnu \": \"Banepa\",\n",
    "    \"suraj\": \"Dulikhel\"\n",
    "}\n",
    "\n",
    "print(dicts[\"Sweta\"])"
   ]
  },
  {
   "cell_type": "code",
   "execution_count": 8,
   "id": "658d720e",
   "metadata": {},
   "outputs": [
    {
     "name": "stdout",
     "output_type": "stream",
     "text": [
      "{'Sweta': 'USA', 'Bishnu ': 'Banepa', 'suraj': 'Dulikhel'}\n",
      "3\n"
     ]
    }
   ],
   "source": [
    "##dictionaries duplicates values is replaced,only one value is printed.\n",
    "dicts= {\n",
    "\n",
    "    \"Sweta\" : \"Kathmandu\",\n",
    "    \"Bishnu \": \"Banepa\",\n",
    "    \"suraj\": \"Dulikhel\",\n",
    "    \"Sweta\": \"USA\"\n",
    "}\n",
    "print(dicts)\n",
    "print(len(dicts))"
   ]
  },
  {
   "cell_type": "markdown",
   "id": "6c0a24e3",
   "metadata": {},
   "source": [
    "#### In the dict data types are string, int, boolean adn list data types\n",
    "\n"
   ]
  },
  {
   "cell_type": "code",
   "execution_count": 15,
   "id": "d91759a8",
   "metadata": {},
   "outputs": [
    {
     "name": "stdout",
     "output_type": "stream",
     "text": [
      "{'Brand': 'Mahindra Thar', 'year': 2022, 'electric': False, 'specifies': ['black', 'red']}\n",
      "<class 'dict'>\n"
     ]
    }
   ],
   "source": [
    "newdict ={\n",
    "    \"Brand\": \"Mahindra Thar\",\n",
    "    \"year\": 2022,\n",
    "    \"electric\": False,\n",
    "    \"specifies\": [\"black\", \"red\"]\n",
    "}\n",
    "print(newdict)\n",
    "print(type(newdict))"
   ]
  },
  {
   "cell_type": "markdown",
   "id": "2f82b08c",
   "metadata": {},
   "source": [
    "#### Dict is changeable \n"
   ]
  },
  {
   "cell_type": "code",
   "execution_count": 17,
   "id": "3af85064",
   "metadata": {},
   "outputs": [
    {
     "name": "stdout",
     "output_type": "stream",
     "text": [
      "{'Brand': 'Tesla', 'year': 2022, 'electric': False, 'specifies': ['black', 'red'], 'brand': 'Tesla'}\n"
     ]
    }
   ],
   "source": [
    "newdict ={\n",
    "    \"Brand\": \"Mahindra Thar\",\n",
    "    \"year\": 2022,\n",
    "    \"electric\": False,\n",
    "    \"specifies\": [\"black\", \"red\"]\n",
    "}\n",
    "newdict[\"brand\"] = \"Tesla\" ## this is new list in dict\n",
    "newdict[\"Brand\"] = \"Tesla\" ## this is replacing thar with tesla\n",
    "print(newdict)"
   ]
  },
  {
   "cell_type": "markdown",
   "id": "0f6fb659",
   "metadata": {},
   "source": [
    "#### Combining the two dictionaries\n"
   ]
  },
  {
   "cell_type": "code",
   "execution_count": 19,
   "id": "e3b0a5bf",
   "metadata": {},
   "outputs": [
    {
     "name": "stdout",
     "output_type": "stream",
     "text": [
      "The combination of {'red': 'rose', 'blue': 'sky'} and {'Nepal': 'Mount. Everest'} is {'red': 'rose', 'blue': 'sky', 'Nepal': 'Mount. Everest'}\n"
     ]
    }
   ],
   "source": [
    "dict1= {\n",
    "    \"red\": \"rose\", \n",
    "    \"blue\": \"sky\"\n",
    "}\n",
    "\n",
    "dict2= {\n",
    "    \"Nepal\": \"Mount. Everest\"\n",
    "}\n",
    "\n",
    "combined_dict = {**dict1, **dict2}\n",
    "print(f'The combination of {dict1} and {dict2} is {combined_dict}')"
   ]
  },
  {
   "cell_type": "markdown",
   "id": "e167a0b6",
   "metadata": {},
   "source": [
    "##### If dict1 and dict2 have overlapping keys, the values from dict2 will overwrite the values from dict1 for those keys in the resulting dictionary"
   ]
  },
  {
   "cell_type": "code",
   "execution_count": 23,
   "id": "8fe8aaa3",
   "metadata": {},
   "outputs": [
    {
     "name": "stdout",
     "output_type": "stream",
     "text": [
      "The combination is {'red': 'Carpet', 'blue': 'sky', 'Nepal': 'Mount. Everest'}\n"
     ]
    }
   ],
   "source": [
    "dict1= {\n",
    "    \"red\": \"rose\", \n",
    "    \"blue\": \"sky\"\n",
    "}\n",
    "\n",
    "dict2= {\n",
    "    \"red\": \"Carpet\",\n",
    "    \"Nepal\": \"Mount. Everest\"\n",
    "}\n",
    "combined_dict = {**dict1, **dict2}\n",
    "print(f'The combination is {combined_dict}')"
   ]
  },
  {
   "cell_type": "markdown",
   "id": "b0d2c2e0",
   "metadata": {},
   "source": [
    "##### REMOVING "
   ]
  },
  {
   "cell_type": "code",
   "execution_count": 25,
   "id": "660b2012",
   "metadata": {},
   "outputs": [
    {
     "name": "stdout",
     "output_type": "stream",
     "text": [
      "{'blue': 'sky', 'Nepal': 'Mount. Everest'}\n"
     ]
    }
   ],
   "source": [
    "dict1= {\n",
    "    \"red\": \"rose\", \n",
    "    \"blue\": \"sky\",\n",
    "    \"red\": \"Carpet\",\n",
    "    \"Nepal\": \"Mount. Everest\"\n",
    "}\n",
    "\n",
    "dict1.pop(\"red\")\n",
    "print(dict1)"
   ]
  },
  {
   "cell_type": "code",
   "execution_count": 26,
   "id": "31533fcf",
   "metadata": {},
   "outputs": [
    {
     "name": "stdout",
     "output_type": "stream",
     "text": [
      "{'red': 'Carpet', 'blue': 'sky'}\n"
     ]
    }
   ],
   "source": [
    "dict= {\n",
    "    \"red\": \"rose\", \n",
    "    \"blue\": \"sky\",\n",
    "    \"red\": \"Carpet\",\n",
    "    \"Nepal\": \"Mount. Everest\"\n",
    "}\n",
    "## this case two items are removed becuase one is duplciate and one is pop out\n",
    "\n",
    "dict.popitem()\n",
    "print(dict)"
   ]
  },
  {
   "cell_type": "code",
   "execution_count": 31,
   "id": "b4a43af0",
   "metadata": {},
   "outputs": [
    {
     "name": "stdout",
     "output_type": "stream",
     "text": [
      "{'coord': {'lon': 10.99, 'lat': 44.34}, 'weather': [{'id': 501, 'main': 'Rain', 'description': 'moderate rain', 'icon': '10d'}], 'base': 'stations', 'main': {'temp': 298.48, 'feels_like': 298.74, 'temp_min': 297.56, 'temp_max': 300.05, 'pressure': 1015, 'humidity': 64, 'sea_level': 1015, 'grnd_level': 933}, 'visibility': 10000, 'wind': {'speed': 0.62, 'deg': 349, 'gust': 1.18}, 'rain': {'1h': 3.16}, 'clouds': {'all': 100}, 'dt': 1661870592, 'sys': {'type': 2, 'id': 2075663, 'country': 'IT', 'sunrise': 1661834187, 'sunset': 1661882248}, 'timezone': 7200, 'id': 3163858, 'name': 'Zocca', 'cod': 200}\n"
     ]
    }
   ],
   "source": [
    "weather = {\n",
    "  \"coord\": {\n",
    "    \"lon\": 10.99,\n",
    "    \"lat\": 44.34\n",
    "  },\n",
    "  \"weather\": [\n",
    "    {\n",
    "      \"id\": 501,\n",
    "      \"main\": \"Rain\",\n",
    "      \"description\": \"moderate rain\",\n",
    "      \"icon\": \"10d\"\n",
    "    }\n",
    "  ],\n",
    "  \"base\": \"stations\",\n",
    "  \"main\": {\n",
    "    \"temp\": 298.48,\n",
    "    \"feels_like\": 298.74,\n",
    "    \"temp_min\": 297.56,\n",
    "    \"temp_max\": 300.05,\n",
    "    \"pressure\": 1015,\n",
    "    \"humidity\": 64,\n",
    "    \"sea_level\": 1015,\n",
    "    \"grnd_level\": 933\n",
    "  },\n",
    "  \"visibility\": 10000,\n",
    "  \"wind\": {\n",
    "    \"speed\": 0.62,\n",
    "    \"deg\": 349,\n",
    "    \"gust\": 1.18\n",
    "  },\n",
    "  \"rain\": {\n",
    "    \"1h\": 3.16\n",
    "  },\n",
    "  \"clouds\": {\n",
    "    \"all\": 100\n",
    "  },\n",
    "  \"dt\": 1661870592,\n",
    "  \"sys\": {\n",
    "    \"type\": 2,\n",
    "    \"id\": 2075663,\n",
    "    \"country\": \"IT\",\n",
    "    \"sunrise\": 1661834187,\n",
    "    \"sunset\": 1661882248\n",
    "  },\n",
    "  \"timezone\": 7200,\n",
    "  \"id\": 3163858,\n",
    "  \"name\": \"Zocca\",\n",
    "  \"cod\": 200\n",
    "}\n",
    "    \n",
    "print(weather)"
   ]
  },
  {
   "cell_type": "code",
   "execution_count": 30,
   "id": "59d0583a",
   "metadata": {},
   "outputs": [
    {
     "name": "stdout",
     "output_type": "stream",
     "text": [
      "{'lon': 10.99, 'lat': 44.34}\n"
     ]
    }
   ],
   "source": [
    "print(weather['coord'])"
   ]
  },
  {
   "cell_type": "code",
   "execution_count": 32,
   "id": "d5ad87c6",
   "metadata": {},
   "outputs": [
    {
     "name": "stdout",
     "output_type": "stream",
     "text": [
      "10.99\n"
     ]
    }
   ],
   "source": [
    "print(weather['coord']['lon'])"
   ]
  },
  {
   "cell_type": "code",
   "execution_count": 33,
   "id": "ba27c665",
   "metadata": {},
   "outputs": [
    {
     "name": "stdout",
     "output_type": "stream",
     "text": [
      "44.34\n"
     ]
    }
   ],
   "source": [
    "print(weather['coord']['lat'])"
   ]
  },
  {
   "cell_type": "code",
   "execution_count": 34,
   "id": "10d79637",
   "metadata": {},
   "outputs": [
    {
     "name": "stdout",
     "output_type": "stream",
     "text": [
      "7200\n"
     ]
    }
   ],
   "source": [
    "print(weather['timezone'])"
   ]
  },
  {
   "cell_type": "code",
   "execution_count": 37,
   "id": "8fa20bba",
   "metadata": {},
   "outputs": [
    {
     "name": "stdout",
     "output_type": "stream",
     "text": [
      "moderate rain\n"
     ]
    }
   ],
   "source": [
    "# here is 0 here in above items in weather dictionarie  there is sub-dictionatries\n",
    "print(weather['weather'][0]['description'])\n"
   ]
  },
  {
   "cell_type": "code",
   "execution_count": null,
   "id": "01f1a190",
   "metadata": {},
   "outputs": [],
   "source": []
  }
 ],
 "metadata": {
  "kernelspec": {
   "display_name": "Python 3 (ipykernel)",
   "language": "python",
   "name": "python3"
  },
  "language_info": {
   "codemirror_mode": {
    "name": "ipython",
    "version": 3
   },
   "file_extension": ".py",
   "mimetype": "text/x-python",
   "name": "python",
   "nbconvert_exporter": "python",
   "pygments_lexer": "ipython3",
   "version": "3.9.12"
  }
 },
 "nbformat": 4,
 "nbformat_minor": 5
}
